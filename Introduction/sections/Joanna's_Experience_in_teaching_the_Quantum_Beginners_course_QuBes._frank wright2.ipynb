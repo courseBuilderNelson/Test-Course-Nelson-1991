{
 "cells": [
  {
   "cell_type": "markdown",
   "id": "6cc7c325-a2f1-4db3-9028-a29e19ea42bd",
   "metadata": {},
   "source": [
    "# Joanna's Experience in teaching the Quantum Beginners course QuBes."
   ]
  },
  {
   "cell_type": "markdown",
   "id": "deaa2d73-2dcd-4cce-9336-84d0785d9a06",
   "metadata": {},
   "source": [
    "This past summer, qBraid organized eight virtual courses, teaching over 250 high school students the basics of quantum computing. The courses were entirely free for students. They were taught by 18 wonderful undergraduate instructors from universities across the United States, who very kindly volunteered their time to share their enthusiasm about quantum computing with high school students. The courses were largely based on our Qubes Course (which is freely available [here](https://www.google.com/url?q=https://www.google.com/url?q%3Dhttps://qbook.qbraid.com/learn/%26amp;sa%3DD%26amp;source%3Deditors%26amp;ust%3D1636821854427000%26amp;usg%3DAOvVaw2Pe3xUcHS34PNKVJqPY2-4&sa=D&source=docs&ust=1636821854454000&usg=AOvVaw0yeNNKHbsSJthmr5CgNWbn)), and they were taught following a “flipped-classroom” style (with students usually watching recorded lectures and completing assignments beforehand) and coming to the weekly lecture with a chance to engage more actively with the instructor. We felt that this initiative was very worthwhile for students, and we plan to repeat it next summer, taking along all that we learnt on this first iteration. In this blog post, one of the instructors, Joanna Roy, recounts her experience.\n",
    "\n",
    "-Andrea Coladangelo"
   ]
  },
  {
   "cell_type": "markdown",
   "id": "cb890b4c-6837-43e4-82f6-4fbd52ed48c0",
   "metadata": {},
   "source": [
    "This summer, I had the opportunity to teach a section of the QuBes course with qBraid, a quantum computing summer course designed for high school students. In this blog post, I’ll talk about my experience as an instructor - what I learned about teaching, quantum computing, and problem solving. The QuBes course begins by covering the mathematical foundations of quantum computing (probability, vectors, linear transformations, etc), followed by an introduction to quantum information (single/multiple qubit states, measurements, and gates), then coding in Qiskit, and finally discusses quantum computing algorithms, as well as their potential benefits over classical alternatives. My class ran for 10 weeks, and began with about 25 students, with 15 completing the course. QBraid supported instructors by holding a training session that discussed the content we should cover, and some tips for teaching in the online setting. I appreciated this training session since it gave us enough information to feel supported, but we had the freedom to structure the content in a way that worked well for us. We were also provided lesson slides and teaching guides to help develop our lectures, which allowed me to dedicate more time to other aspects of the course, such as interactive activities and challenge problems, that helped keep students more engaged.\n",
    "\n"
   ]
  },
  {
   "cell_type": "markdown",
   "id": "e8859f90-5322-4d97-a19a-25f8955bcec1",
   "metadata": {},
   "source": [
    "\n",
    "I’m currently a student at the University of Toronto, going into my third year of Engineering Science in the Electrical and Computer Engineering option. I have spent more of my time in university online than in person, since the COVID-19 pandemic began during my first year, and I believe my experiences learning online gave me a unique perspective as an instructor. As a student, I understand how difficult it can be to focus during long online lectures, to adjust to learning complex topics alone, to be sent to uncomfortably quiet break out rooms, and to miss being able to talk through challenging problems with peers. I know online learning isn’t easy and admire these students for voluntarily taking a summer course simply because they’re excited about the topic. I was grateful that they gave me their time and attention each week, despite not having traditional motivators like grades or evaluations.\n",
    "\n"
   ]
  },
  {
   "cell_type": "markdown",
   "id": "8a58b76a-9136-4632-88f4-5fe2d06ef597",
   "metadata": {},
   "source": [
    "Because of this, I also felt it my responsibility as an instructor to make a conscious effort to keep students engaged, comfortable, and motivated to learn -- be it by playing hangman together at the start of lectures, sharing anecdotes of my personality to connect with them beyond the course content, taking breaks and checking in during lectures, and giving students a variety of ways to participate (ie chat, private message, unmuting, anonymous whiteboards, etc). \n"
   ]
  },
  {
   "cell_type": "markdown",
   "id": "c6b4bdc7-c097-44de-a1de-0b4299cc7ccf",
   "metadata": {},
   "source": [
    "![\"Games\"](https://lh5.googleusercontent.com/1vd1cCjbAl3sFkTBM4pxQoVU4pDFYnqdwmDM1saMj9qjvYYDiTvl7i3uMKIapOtKS4n5w4HsCmyKzrwng1edIXJG_HTNhX75cjsP_N4KBeVtjfmspP13xQcfUw0TsMaoZannPRGc=s800 \"Keeping students engaged！\")"
   ]
  },
  {
   "cell_type": "markdown",
   "id": "89e3ddc3-249a-430b-a903-416e1db0456c",
   "metadata": {},
   "source": [
    "Ideally, students would leave the course appreciating the beauty of quantum computing as much as I do, and with the curiosity to keep  the topic beyond the QuBes course."
   ]
  },
  {
   "cell_type": "markdown",
   "id": "0ede7cce-5662-47b5-8ef9-2c4ce9ae22ab",
   "metadata": {},
   "source": [
    " Quantum computing is a relatively new field, so inspiring younger students\n",
    "to learn about and contribute to it is beneficial as we address new challenges in the future.\n"
   ]
  },
  {
   "cell_type": "markdown",
   "id": "c5f92ce7-aef0-43b6-b552-edf5b44c7e64",
   "metadata": {},
   "source": [
    "In addition to learning in an online setting, I have also experienced teaching prior to this experience. Last summer, I was a mentor for a UofT summer program, teaching chemistry, math, and physics to incoming engineering students. I learned a lot about online instruction through this experience, and tried to apply these lessons as a qBraid instructor this summer. Specifically, I learned to better estimate the time it would take to cover various concepts in lecture, balance ‘talking at students’ with interactive activities and check-ins, ask for feedback more often, and to explain concepts from various angles to accommodate the diverse learning styles and academic backgrounds of the class. "
   ]
  },
  {
   "cell_type": "markdown",
   "id": "683dd14b-1f05-43ba-bddb-19f28b70af16",
   "metadata": {},
   "source": [
    "Teaching this course also improved my knowledge of quantum computing fundamentals. Prior to this course, I didn’t have much experience coding in qiskit or with quantum algorithms. My exposure to quantum computing had been primarily through a research placement and physics courses -- hardware-focused, with an emphasis on the physics of quantum dots, physical qubits, and quantum error correction."
   ]
  },
  {
   "cell_type": "markdown",
   "id": "90f67430-768f-4f46-b091-499ce170382b",
   "metadata": {},
   "source": [
    " As such,it was interesting for me to learn new topics and exciting\n",
    "to share this with the students. "
   ]
  },
  {
   "cell_type": "markdown",
   "id": "1e1e06ac-7430-401f-843e-4be5335f8a69",
   "metadata": {},
   "source": [
    "![\"Two Qubit State Lecture\"](https://lh5.googleusercontent.com/wRcuOmgJNqTiIUuFKMUaGjyUlJFkflich3IZDs86TD4dkYuthIqgHK0QOrLOMBVdzm3LFiOInkuNa8nzP9L1sHQGGfr678qwaTCY0KI1f3jIA6G9VLIy-85lPMO5jyZnOjFpms8y=s320 \"Screen-capture from a lecture on two-qubit states\")"
   ]
  },
  {
   "cell_type": "markdown",
   "id": "7f78b7bf-5c5c-4e2f-bb29-628755976bce",
   "metadata": {},
   "source": [
    "As such, it was interesting for me to learn new topics and exciting\n",
    "to share this with the students. I needed to understand concepts fully in order to teach them, and student questions often approached topics from angles different from my own. I built connections beyond what I would have gained from simply learning on my own, and developed a more well-rounded understanding of the material so that I could provide answers aligned with their approach. Strengthening my foundational knowledge in this way has been beneficial when reading higher level academic papers for my summer research, and will continue to be helpful in future quantum computing-related courses. "
   ]
  },
  {
   "cell_type": "markdown",
   "id": "806c5280-e1f9-4fe6-9c0c-6377f20a7c2f",
   "metadata": {},
   "source": [
    "Overall, I am grateful for this opportunity and excited to keep learning about this field in future experiences. Beyond the content itself, teaching this course reaffirmed my passion for learning and sharing my knowledge with others. While the content did not go too in-depth, it exposed me to new topics I hope to continue exploring in the future. Interacting with students and other qBraid instructors gave me greater exposure to the global quantum computing community, and I hope to continue to contribute to its culture of knowledge-sharing as we discover the potential impact of this new field together. "
   ]
  },
  {
   "cell_type": "markdown",
   "id": "6e2d676a-60d3-44c3-a00b-2e45d06b2c86",
   "metadata": {},
   "source": [
    "![\"Graduation\"](https://lh5.googleusercontent.com/qnZjl9v7gJ40tSGFeM-4yBHSgyTnPB_bI2vuZgtRP05l2rqJ433aKv-agskIrhEawLUMQayD9NbNaOB00QUL34c1ScnrC8n2lDnmDdfMPDseM-75VF6oZLN8q6BQN7-QzpqhB_kI=s320 \"Graduation drawing\")"
   ]
  },
  {
   "cell_type": "code",
   "execution_count": 1,
   "id": "a99a19a9-3d2a-4773-939b-e7f203ceb7c7",
   "metadata": {},
   "outputs": [
    {
     "name": "stdout",
     "output_type": "stream",
     "text": [
      "odsjfoaisdjf\n"
     ]
    }
   ],
   "source": [
    "print(\"odsjfoaisdjf\")"
   ]
  },
  {
   "cell_type": "code",
   "execution_count": null,
   "id": "7fa5365e-16c3-48ac-91e7-fdd1ccc21b8f",
   "metadata": {},
   "outputs": [],
   "source": []
  }
 ],
 "metadata": {
  "kernelspec": {
   "display_name": "Python 3 (ipykernel)",
   "language": "python",
   "name": "python3"
  },
  "language_info": {
   "codemirror_mode": {
    "name": "ipython",
    "version": 3
   },
   "file_extension": ".py",
   "mimetype": "text/x-python",
   "name": "python",
   "nbconvert_exporter": "python",
   "pygments_lexer": "ipython3",
   "version": "3.9.10"
  }
 },
 "nbformat": 4,
 "nbformat_minor": 5
}
