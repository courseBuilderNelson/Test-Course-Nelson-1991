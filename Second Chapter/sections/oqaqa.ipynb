{
 "cells": [
  {
   "cell_type": "code",
   "execution_count": null,
   "id": "98b3bbec-a151-4374-8ee8-c0a8790bdbd5",
   "metadata": {},
   "outputs": [],
   "source": [
    "This is OQAOA"
   ]
  }
 ],
 "metadata": {
  "kernelspec": {
   "display_name": "Python 3 [OpenQAOA]",
   "language": "python",
   "name": "python3_openqaoa_fozpr5"
  },
  "language_info": {
   "codemirror_mode": {
    "name": "ipython",
    "version": 3
   },
   "file_extension": ".py",
   "mimetype": "text/x-python",
   "name": "python",
   "nbconvert_exporter": "python",
   "pygments_lexer": "ipython3",
   "version": "3.9.10"
  }
 },
 "nbformat": 4,
 "nbformat_minor": 5
}
