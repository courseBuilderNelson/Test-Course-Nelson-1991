{
 "cells": [
  {
   "cell_type": "code",
   "execution_count": 1,
   "id": "8c9efcb5-9241-4c07-b973-ef6ab98cad7d",
   "metadata": {},
   "outputs": [
    {
     "data": {
      "application/x-qsharp-data": "[\"GenerateRandomBit\"]",
      "text/html": [
       "<ul><li>GenerateRandomBit</li></ul>"
      ],
      "text/plain": [
       "GenerateRandomBit"
      ]
     },
     "execution_count": 1,
     "metadata": {},
     "output_type": "execute_result"
    }
   ],
   "source": [
    "operation GenerateRandomBit() : Result {\n",
    "    use q = Qubit();\n",
    "    H(q);\n",
    "    let r = M(q);\n",
    "    Reset(q);\n",
    "    return r;\n",
    "}\n"
   ]
  },
  {
   "cell_type": "code",
   "execution_count": null,
   "id": "3a020725-f5b1-4cae-b3bd-ffd42c776556",
   "metadata": {},
   "outputs": [],
   "source": []
  },
  {
   "cell_type": "code",
   "execution_count": 2,
   "id": "a62c5c8c-b3da-4d83-a96d-62c76e9be481",
   "metadata": {},
   "outputs": [
    {
     "name": "stdout",
     "output_type": "stream",
     "text": [
      "Authenticated using Azure.Identity.AzureCliCredential\n",
      "\n",
      "\n",
      "Connected to Azure Quantum workspace Qsharp-env2 in location eastus.\n"
     ]
    },
    {
     "data": {
      "application/x-qsharp-data": "[{\"id\":\"ionq.qpu\",\"current_availability\":{},\"average_queue_time\":460},{\"id\":\"ionq.simulator\",\"current_availability\":{},\"average_queue_time\":4}]",
      "text/html": [
       "<table><thead><tr><th style=\"text-align: start;\">Target ID</th><th style=\"text-align: start;\">Current Availability</th><th style=\"text-align: start;\">Average Queue Time (Seconds)</th></tr></thead><tbody><tr><td style=\"text-align: start;\">ionq.qpu</td><td style=\"text-align: start;\">Available</td><td style=\"text-align: start;\">460</td></tr><tr><td style=\"text-align: start;\">ionq.simulator</td><td style=\"text-align: start;\">Available</td><td style=\"text-align: start;\">4</td></tr></tbody></table>"
      ],
      "text/plain": [
       "Target ID      Current Availability Average Queue Time (Seconds)\n",
       "-------------- --------- ---\n",
       "ionq.qpu       Available 460\n",
       "ionq.simulator Available 4\n"
      ]
     },
     "execution_count": 2,
     "metadata": {},
     "output_type": "execute_result"
    }
   ],
   "source": [
    "%azure.connect \"/subscriptions/12838447-4037-4e5c-bc65-4a66f17a49a9/resourceGroups/Quantum/providers/Microsoft.Quantum/Workspaces/Qsharp-env2\" location=\"eastus\"\n"
   ]
  },
  {
   "cell_type": "code",
   "execution_count": 3,
   "id": "18b6f233-c236-4db9-8c27-ead44f451a85",
   "metadata": {},
   "outputs": [
    {
     "name": "stdout",
     "output_type": "stream",
     "text": [
      "Loading package Microsoft.Quantum.Providers.IonQ and dependencies...\n",
      "Active target is now ionq.simulator\n",
      "Submitting GenerateRandomBit to target ionq.simulator...\n",
      "Job successfully submitted for 500 shots.\n",
      "   Job name: GenerateRandomBit\n",
      "   Job ID: 6b943a55-3157-4d64-bb57-072c7df2ac42\n",
      "Waiting up to 30 seconds for Azure Quantum job to complete...\n"
     ]
    },
    {
     "name": "stderr",
     "output_type": "stream",
     "text": [
      "An exception related to the Azure workspace client occurred: Could not get job\n",
      "SubscriptionId: 12838447-4037-4e5c-bc65-4a66f17a49a9\n",
      "ResourceGroupName: Quantum\n",
      "WorkspaceName: Qsharp-env2\n",
      "Location: eastus\n",
      "JobId: 6b943a55-3157-4d64-bb57-072c7df2ac42\n",
      "Server Error: A task was canceled.\n",
      "\n"
     ]
    }
   ],
   "source": [
    "\n",
    "%azure.target ionq.simulator\n",
    "\n",
    "%azure.execute GenerateRandomBit"
   ]
  },
  {
   "cell_type": "code",
   "execution_count": null,
   "id": "3dc4fec0-7fe7-435d-85ab-cd1ae5103843",
   "metadata": {},
   "outputs": [],
   "source": []
  }
 ],
 "metadata": {
  "kernelspec": {
   "display_name": "Python 3 [Default]",
   "language": "python",
   "name": "python3"
  },
  "language_info": {
   "codemirror_mode": {
    "name": "ipython",
    "version": 3
   },
   "file_extension": ".py",
   "mimetype": "text/x-python",
   "name": "python",
   "nbconvert_exporter": "python",
   "pygments_lexer": "ipython3",
   "version": "3.9.12"
  }
 },
 "nbformat": 4,
 "nbformat_minor": 5
}
